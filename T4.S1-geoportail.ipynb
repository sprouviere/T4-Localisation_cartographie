{
 "cells": [
  {
   "cell_type": "markdown",
   "metadata": {},
   "source": [
    "<h1> T4.S1 - Cartes Numériques : GeoPortail </h1> <br>\n",
    "<h3> <u> Capacité </u> : Identifier les différentes couches d'information de GeoPortail pour extraire différents types de données </h3>"
   ]
  },
  {
   "cell_type": "markdown",
   "metadata": {},
   "source": [
    "<img src=\"img/GeoPortail.png\" />"
   ]
  },
  {
   "cell_type": "markdown",
   "metadata": {},
   "source": [
    "Aller sur le site de GeoPortail : https://www.geoportail.gouv.fr/ <br> <br>\n",
    "Rechercher \"Toulon\" et à Toulon trouver le <i> <b> Lycée Rouvière </b> </i>."
   ]
  },
  {
   "cell_type": "markdown",
   "metadata": {},
   "source": [
    "Chercher dans les menus et placer un point au centre de la pinède du lycée : <br> <br> <img src=\"img/lycee_rouviere_coord_bis.png\" /> \n"
   ]
  },
  {
   "cell_type": "markdown",
   "metadata": {},
   "source": [
    "<b> 1. relever les coordonnées GPS : </b>"
   ]
  },
  {
   "cell_type": "raw",
   "metadata": {},
   "source": [
    "latitude : "
   ]
  },
  {
   "cell_type": "raw",
   "metadata": {},
   "source": [
    "longitude : "
   ]
  },
  {
   "cell_type": "markdown",
   "metadata": {},
   "source": [
    "<br> <br> <b> 2. </b> En cliquant sur \"+ de données\" à droite de l'image : <img src = \"img/plus_de_donnees_couches.png\"  width=\"200\" /> <br> il est possible d'ajouter des couches d'informations à la carte.\n",
    " Ajouter la $\\textbf{carte littorale }$. <br>\n",
    "Que contient cette carte : https://www.geoportail.gouv.fr/actualites/donnees-mer-et-littoral-sur-le-geoportail ? <br><br>\n",
    "<b> <u> Réponse : </u> </b>"
   ]
  },
  {
   "cell_type": "raw",
   "metadata": {},
   "source": []
  },
  {
   "cell_type": "markdown",
   "metadata": {},
   "source": [
    "<br>\n",
    "$ \\textbf{Trois sympboles violets} $ apparaissent sur la carte autour du lycée : <img src=\"img/IGN_rouviere_num.png\" /> <br>\n",
    "<b> 3. Que signifient ces symboles ? </b> <a href=\"http://professionnels.ign.fr/doc/DC_SCAN25_3-0.pdf\" target=\"_blank\"> http://professionnels.ign.fr/doc/DC_SCAN25_3-0.pdf</a> . ou <a href=\"img/DC_SCAN25_3-0.pdf\" target=\"_blank\"> ici </a>. <br> <br>\n",
    "<b> <u> Réponse : </u> </b>"
   ]
  },
  {
   "cell_type": "raw",
   "metadata": {},
   "source": [
    "1 :"
   ]
  },
  {
   "cell_type": "raw",
   "metadata": {},
   "source": [
    "2 :"
   ]
  },
  {
   "cell_type": "raw",
   "metadata": {},
   "source": [
    "3 :"
   ]
  },
  {
   "cell_type": "markdown",
   "metadata": {},
   "source": [
    "<br> <br> <b> 4. </b> Bien qu'accessible en ligne cette carte est <b> relativement ancienne, </b> Donc pas à jour. Qu'est ce qui nous permet de l'affirmer http://www.ch-toulon.fr/nous-connaitre/histoire-611.html ? Pourriez-vous lui donner un âge ? considérez-vous qu'elle est fiable ? <br> <br>\n",
    "<b> <u> Réponse : </u> </b>"
   ]
  },
  {
   "cell_type": "raw",
   "metadata": {},
   "source": []
  },
  {
   "cell_type": "markdown",
   "metadata": {},
   "source": [
    "<br> <br> <b> 5. </b> Dans la zone ci-dessous qui s'étend de <b> <i> Bandol </i> </b> à <b> <i> Bormes les Mimosas </i> </b>, il existe $\\textbf{ différentes catégories de zones naturelles protégées.} $ <img src=\"img/zone_protegee.png\" /> <br>\n",
    "Quelles sont ces zones ? Comment sont-elles classées ? Ajouter les filtres adaptés. Faites des copies d'écran qui mettent en évidence $\\textbf{les zones concernées} $ et $\\textbf{la catégorie} $ dans laquelle elles se classent. Pensez à ajouter votre nom aux images. <br> <br>\n",
    "Lister les catagories dans lesquelles vous avez trouvé des zones. <br>\n",
    "<b> <u> Réponse : </u> </b>"
   ]
  },
  {
   "cell_type": "raw",
   "metadata": {},
   "source": []
  },
  {
   "cell_type": "markdown",
   "metadata": {},
   "source": [
    "<br> <br> <b> 6. </b> Afficher la catégorie des $\\textbf{communes} $ de la région toulonnaise : <img src=\"img/communes.png\" /> <br>\n",
    "Extraire la surface des communes autour de Toulon.<br><br>\n",
    "<b> <u> Réponse : </u> </b>"
   ]
  },
  {
   "cell_type": "raw",
   "metadata": {},
   "source": [
    "Toulon :"
   ]
  },
  {
   "cell_type": "raw",
   "metadata": {},
   "source": [
    "Ollioules :"
   ]
  },
  {
   "cell_type": "raw",
   "metadata": {},
   "source": [
    "La Seyne sur Mer :"
   ]
  },
  {
   "cell_type": "raw",
   "metadata": {},
   "source": [
    "La Valette :"
   ]
  },
  {
   "cell_type": "raw",
   "metadata": {},
   "source": [
    "La Garde :"
   ]
  },
  {
   "cell_type": "raw",
   "metadata": {},
   "source": [
    "Six-Fours :"
   ]
  },
  {
   "cell_type": "raw",
   "metadata": {},
   "source": [
    "le Pradet :"
   ]
  },
  {
   "cell_type": "raw",
   "metadata": {},
   "source": [
    "Carqueiranne :"
   ]
  },
  {
   "cell_type": "raw",
   "metadata": {},
   "source": [
    "Le Revest :"
   ]
  },
  {
   "cell_type": "raw",
   "metadata": {},
   "source": [
    "Hyères : "
   ]
  },
  {
   "cell_type": "raw",
   "metadata": {},
   "source": [
    "La Crau : "
   ]
  },
  {
   "cell_type": "markdown",
   "metadata": {},
   "source": [
    "<b> <u> Conclusion </u> </b>: Classer par $\\textbf{ordre décroissant} $ les $\\textbf{trois communes}$ de la liste qui ont la $\\textbf{surface la plus grande }$ <br><br>\n",
    "<b> <u> Réponse : </u> </b>\n"
   ]
  },
  {
   "cell_type": "raw",
   "metadata": {},
   "source": []
  },
  {
   "cell_type": "markdown",
   "metadata": {},
   "source": [
    "<br> <br> <b> 7. </b> Afficher la carte de France des $\\textbf{régions} $ : <img src=\"img/regions.png\" /> <br>\n",
    "Classer par <b> <u> ordre décroissant </u> </b> les $\\textbf{quatre plus grandes régions} $ de France. Relever leur nom, leur superficie et le nom de leur préfecture. <br><br>\n",
    "<b> <u> Réponse : </u> </b>"
   ]
  },
  {
   "cell_type": "raw",
   "metadata": {},
   "source": [
    "1 :"
   ]
  },
  {
   "cell_type": "raw",
   "metadata": {},
   "source": [
    "2 :"
   ]
  },
  {
   "cell_type": "raw",
   "metadata": {},
   "source": [
    "3 : "
   ]
  },
  {
   "cell_type": "raw",
   "metadata": {},
   "source": [
    "4 :"
   ]
  },
  {
   "cell_type": "markdown",
   "metadata": {},
   "source": [
    "<br> <br> <b> 8. </b> J'habite à  Toulon, je voudrais savoir sur quelle(s) commune(s) je peux aller, au $\\textbf{plus proche} $, pour faire voler mon $\\textbf{drône de loisirs} $. <br>\n",
    "Quels sont les  $\\textbf{couches} $ que je dois afficher sur la carte pour avoir cette information ? Faire une copie d'écran de l'image de la carte avec les couches. <br><br>\n",
    "<b> <u> Réponse : </u> </b>"
   ]
  },
  {
   "cell_type": "raw",
   "metadata": {},
   "source": []
  },
  {
   "cell_type": "markdown",
   "metadata": {},
   "source": [
    "<br> <hr>\n",
    "<font color='red'> Enregistrez ce travail sous le nom : T5.S1_geoportail_<i>votre_nom</i>.ipynb et déposez le là où on vous le dira </font>\n",
    "\n",
    "### Pour enregistrer:\n",
    "\n",
    "1. File\n",
    "2. Download As\n",
    "3. Notebook (ipynb)\n"
   ]
  },
  {
   "cell_type": "code",
   "execution_count": null,
   "metadata": {},
   "outputs": [],
   "source": []
  }
 ],
 "metadata": {
  "kernelspec": {
   "display_name": "Python 3 (ipykernel)",
   "language": "python",
   "name": "python3"
  },
  "language_info": {
   "codemirror_mode": {
    "name": "ipython",
    "version": 3
   },
   "file_extension": ".py",
   "mimetype": "text/x-python",
   "name": "python",
   "nbconvert_exporter": "python",
   "pygments_lexer": "ipython3",
   "version": "3.10.6"
  }
 },
 "nbformat": 4,
 "nbformat_minor": 2
}
